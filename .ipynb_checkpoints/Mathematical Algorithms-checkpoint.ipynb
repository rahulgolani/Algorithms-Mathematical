{
 "cells": [
  {
   "cell_type": "markdown",
   "metadata": {},
   "source": [
    "# Program to find LCM of two numbers"
   ]
  },
  {
   "cell_type": "markdown",
   "metadata": {},
   "source": [
    "   a x b = LCM(a, b) * GCD (a, b)\n",
    "\n",
    "   LCM(a, b) = (a x b) / GCD(a, b) "
   ]
  },
  {
   "cell_type": "code",
   "execution_count": 11,
   "metadata": {},
   "outputs": [],
   "source": [
    "def lcm(a,b):\n",
    "    return a*b//gcd(a,b)"
   ]
  },
  {
   "cell_type": "code",
   "execution_count": 12,
   "metadata": {},
   "outputs": [
    {
     "data": {
      "text/plain": [
       "60"
      ]
     },
     "execution_count": 12,
     "metadata": {},
     "output_type": "execute_result"
    }
   ],
   "source": [
    "lcm(15,20)"
   ]
  },
  {
   "cell_type": "markdown",
   "metadata": {},
   "source": [
    "# Program to find GCD or HCF of two numbers"
   ]
  },
  {
   "cell_type": "markdown",
   "metadata": {},
   "source": [
    "Euclidean algorithm.\n",
    "The idea is, GCD of two numbers doesn’t change if smaller number is subtracted from a bigger number."
   ]
  },
  {
   "cell_type": "code",
   "execution_count": 31,
   "metadata": {},
   "outputs": [],
   "source": [
    "def gcd(a,b):\n",
    "    if a==0:\n",
    "        return b\n",
    "    if b==0:\n",
    "        return a\n",
    "    if a==b:\n",
    "        return a\n",
    "    if a>b:\n",
    "        return gcd(a-b,b)\n",
    "    return gcd(a,b-a)"
   ]
  },
  {
   "cell_type": "code",
   "execution_count": 32,
   "metadata": {},
   "outputs": [
    {
     "data": {
      "text/plain": [
       "5"
      ]
     },
     "execution_count": 32,
     "metadata": {},
     "output_type": "execute_result"
    }
   ],
   "source": [
    "gcd(15,20)"
   ]
  },
  {
   "cell_type": "markdown",
   "metadata": {},
   "source": [
    "More efficient solution is to use modulo operator in Euclidean Algorithm"
   ]
  },
  {
   "cell_type": "code",
   "execution_count": 6,
   "metadata": {},
   "outputs": [],
   "source": [
    "def gcd(a,b):\n",
    "    if a==0:\n",
    "        return b\n",
    "    if b==0:\n",
    "        return a\n",
    "    if a==b:\n",
    "        return a\n",
    "    return gcd(b,a%b)"
   ]
  },
  {
   "cell_type": "code",
   "execution_count": 7,
   "metadata": {},
   "outputs": [
    {
     "data": {
      "text/plain": [
       "14"
      ]
     },
     "execution_count": 7,
     "metadata": {},
     "output_type": "execute_result"
    }
   ],
   "source": [
    "gcd(98,56)"
   ]
  },
  {
   "cell_type": "markdown",
   "metadata": {},
   "source": [
    "#Program to find LCM of 2 numbers without using GCD\n",
    "The approach is to start with the largest of the 2 numbers and keep incrementing the larger number by itself till smaller number perfectly divides the resultant."
   ]
  },
  {
   "cell_type": "code",
   "execution_count": 1,
   "metadata": {},
   "outputs": [],
   "source": [
    "def lcm(a,b):\n",
    "    lar=max(a,b)\n",
    "    small=min(a,b)\n",
    "    i=lar\n",
    "    while 1:\n",
    "        if i%small==0:\n",
    "            return i\n",
    "        i+=lar"
   ]
  },
  {
   "cell_type": "code",
   "execution_count": 3,
   "metadata": {},
   "outputs": [
    {
     "data": {
      "text/plain": [
       "60"
      ]
     },
     "execution_count": 3,
     "metadata": {},
     "output_type": "execute_result"
    }
   ],
   "source": [
    "lcm(15,20)"
   ]
  },
  {
   "cell_type": "markdown",
   "metadata": {},
   "source": [
    "# Prime factors of a given number"
   ]
  },
  {
   "cell_type": "markdown",
   "metadata": {},
   "source": [
    "Following are the steps to find all prime factors.\n",
    "1) While n is divisible by 2, print 2 and divide n by 2.\n",
    "2) After step 1, n must be odd. Now start a loop from i = 3 to square root of n. While i divides n, print i and divide n by i. After i fails to divide n, increment i by 2 and continue.\n",
    "3) If n is a prime number and is greater than 2, then n will not become 1 by above two steps. So print n if it is greater than 2."
   ]
  },
  {
   "cell_type": "code",
   "execution_count": 18,
   "metadata": {},
   "outputs": [],
   "source": [
    "from math import sqrt\n",
    "def primeFactors(n):\n",
    "    result=[]\n",
    "    while n%2==0:\n",
    "        result.append(2)\n",
    "        n=n//2\n",
    "    for i in range(3,int(sqrt(n))+1,2):\n",
    "        while n%i==0:\n",
    "            result.append(i)\n",
    "            n=n//i\n",
    "    if n>2:\n",
    "        result.append(n)\n",
    "    return \" \".join(map(str,result))\n",
    "            "
   ]
  },
  {
   "cell_type": "code",
   "execution_count": 20,
   "metadata": {},
   "outputs": [
    {
     "data": {
      "text/plain": [
       "'3 3 5 7'"
      ]
     },
     "execution_count": 20,
     "metadata": {},
     "output_type": "execute_result"
    }
   ],
   "source": [
    "primeFactors(315)"
   ]
  },
  {
   "cell_type": "markdown",
   "metadata": {},
   "source": [
    "How does this work?\n",
    "Every composite number has at least one prime factor less than or equal to square root of itself."
   ]
  },
  {
   "cell_type": "code",
   "execution_count": 21,
   "metadata": {},
   "outputs": [],
   "source": [
    "#LCM of array"
   ]
  },
  {
   "cell_type": "code",
   "execution_count": 22,
   "metadata": {},
   "outputs": [],
   "source": [
    "def lcmArray(arr):\n",
    "    a=arr[0]\n",
    "    b=arr[1]\n",
    "    ans=lcm(a,b)\n",
    "    for i in range(2,len(arr)):\n",
    "        ans=lcm(ans,arr[i])\n",
    "    return ans"
   ]
  },
  {
   "cell_type": "code",
   "execution_count": 24,
   "metadata": {},
   "outputs": [
    {
     "data": {
      "text/plain": [
       "252"
      ]
     },
     "execution_count": 24,
     "metadata": {},
     "output_type": "execute_result"
    }
   ],
   "source": [
    "arr=[2, 7, 3, 9, 4]\n",
    "lcmArray(arr)"
   ]
  },
  {
   "cell_type": "markdown",
   "metadata": {},
   "source": [
    "# LCM of more than two (or array) numbers without using GCD"
   ]
  },
  {
   "cell_type": "markdown",
   "metadata": {},
   "source": [
    "Below are steps.\n",
    "\n",
    "Initialize result = 1\n",
    "Find a common factors of two or more array elements.\n",
    "Multiply the result by common factor and divide all the array elements by this common factor.\n",
    "Repeat steps 2 and 3 while there is a common factor of two or more elements.\n",
    "Multiply the result by reduced (or divided) array elements.\n"
   ]
  },
  {
   "cell_type": "code",
   "execution_count": 26,
   "metadata": {},
   "outputs": [],
   "source": [
    "def lcmArrayWithoutGCD(arr):\n",
    "    res=1\n",
    "    maxele=max(arr)\n",
    "    x=2\n",
    "    while x<=maxele:\n",
    "        indexes=[]\n",
    "        for j in range(len(arr)):\n",
    "            if arr[j]%x==0:\n",
    "                indexes.append(j)\n",
    "        if len(indexes)>=2:\n",
    "            for i in indexes:\n",
    "                arr[i]=arr[i]//x\n",
    "            res*=x\n",
    "        else:\n",
    "            x+=1\n",
    "    for i in arr:\n",
    "        res*=i\n",
    "    return res\n",
    "        "
   ]
  },
  {
   "cell_type": "code",
   "execution_count": 27,
   "metadata": {},
   "outputs": [
    {
     "data": {
      "text/plain": [
       "420"
      ]
     },
     "execution_count": 27,
     "metadata": {},
     "output_type": "execute_result"
    }
   ],
   "source": [
    "arr=[1, 2, 3, 4, 5, 10, 20, 35]\n",
    "lcmArrayWithoutGCD(arr)"
   ]
  },
  {
   "cell_type": "markdown",
   "metadata": {},
   "source": [
    "# GCD of array"
   ]
  },
  {
   "cell_type": "code",
   "execution_count": 29,
   "metadata": {},
   "outputs": [],
   "source": [
    "def gcdArray(arr):\n",
    "    a=arr[0]\n",
    "    b=arr[1]\n",
    "    ans=gcd(a,b)\n",
    "    for i in range(2,len(arr)):\n",
    "        ans=gcd(ans,arr[i])\n",
    "    return ans"
   ]
  },
  {
   "cell_type": "code",
   "execution_count": 34,
   "metadata": {},
   "outputs": [
    {
     "data": {
      "text/plain": [
       "1"
      ]
     },
     "execution_count": 34,
     "metadata": {},
     "output_type": "execute_result"
    }
   ],
   "source": [
    "arr=[1, 2, 3, 4, 5, 10, 20, 35]\n",
    "gcdArray(arr)"
   ]
  },
  {
   "cell_type": "code",
   "execution_count": 35,
   "metadata": {},
   "outputs": [],
   "source": [
    "def gcdArrayWithoutGCD(arr):\n",
    "    res=1\n",
    "    maxele=max(arr)\n",
    "    x=2\n",
    "    n=len(arr)\n",
    "    while x<=maxele:\n",
    "        indexes=[]\n",
    "        for j in range(len(arr)):\n",
    "            if arr[j]%x==0:\n",
    "                indexes.append(j)\n",
    "        if len(indexes)==n:\n",
    "            for i in indexes:\n",
    "                arr[i]=arr[i]//x\n",
    "            res*=x\n",
    "        else:\n",
    "            x+=1\n",
    "    return res\n",
    "        "
   ]
  },
  {
   "cell_type": "code",
   "execution_count": 45,
   "metadata": {},
   "outputs": [
    {
     "data": {
      "text/plain": [
       "2"
      ]
     },
     "execution_count": 45,
     "metadata": {},
     "output_type": "execute_result"
    }
   ],
   "source": [
    "arr=[2, 4, 6, 8, 16]\n",
    "gcdArrayWithoutGCD(arr)"
   ]
  },
  {
   "cell_type": "code",
   "execution_count": null,
   "metadata": {},
   "outputs": [],
   "source": []
  },
  {
   "cell_type": "code",
   "execution_count": null,
   "metadata": {},
   "outputs": [],
   "source": []
  }
 ],
 "metadata": {
  "kernelspec": {
   "display_name": "Python 3",
   "language": "python",
   "name": "python3"
  },
  "language_info": {
   "codemirror_mode": {
    "name": "ipython",
    "version": 3
   },
   "file_extension": ".py",
   "mimetype": "text/x-python",
   "name": "python",
   "nbconvert_exporter": "python",
   "pygments_lexer": "ipython3",
   "version": "3.7.6"
  }
 },
 "nbformat": 4,
 "nbformat_minor": 4
}
